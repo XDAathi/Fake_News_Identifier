{
 "cells": [
  {
   "cell_type": "code",
   "execution_count": null,
   "id": "a80e44ff",
   "metadata": {},
   "outputs": [],
   "source": [
    "print(\"test\")"
   ]
  }
 ],
 "metadata": {
  "language_info": {
   "name": "python"
  }
 },
 "nbformat": 4,
 "nbformat_minor": 5
}
